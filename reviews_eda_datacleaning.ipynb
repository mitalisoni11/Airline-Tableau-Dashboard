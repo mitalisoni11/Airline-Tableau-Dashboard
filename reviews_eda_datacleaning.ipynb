{
 "cells": [
  {
   "cell_type": "code",
   "execution_count": 2,
   "id": "1f509efc-3b53-48d3-ad5b-617f5e9eb8cb",
   "metadata": {},
   "outputs": [],
   "source": [
    "import pandas as pd\n",
    "import numpy as np"
   ]
  },
  {
   "cell_type": "code",
   "execution_count": 4,
   "id": "a59f2c40-aafe-4902-a641-85bf9f70c6b8",
   "metadata": {},
   "outputs": [],
   "source": [
    "df = pd.read_csv(\"ba_reviews.csv\")"
   ]
  },
  {
   "cell_type": "code",
   "execution_count": 6,
   "id": "102e5d39-03d5-405a-81ff-e3220ed3948b",
   "metadata": {},
   "outputs": [
    {
     "data": {
      "text/html": [
       "<div>\n",
       "<style scoped>\n",
       "    .dataframe tbody tr th:only-of-type {\n",
       "        vertical-align: middle;\n",
       "    }\n",
       "\n",
       "    .dataframe tbody tr th {\n",
       "        vertical-align: top;\n",
       "    }\n",
       "\n",
       "    .dataframe thead th {\n",
       "        text-align: right;\n",
       "    }\n",
       "</style>\n",
       "<table border=\"1\" class=\"dataframe\">\n",
       "  <thead>\n",
       "    <tr style=\"text-align: right;\">\n",
       "      <th></th>\n",
       "      <th>header</th>\n",
       "      <th>author</th>\n",
       "      <th>date</th>\n",
       "      <th>place</th>\n",
       "      <th>content</th>\n",
       "      <th>aircraft</th>\n",
       "      <th>traveller_type</th>\n",
       "      <th>seat_type</th>\n",
       "      <th>route</th>\n",
       "      <th>date_flown</th>\n",
       "      <th>recommended</th>\n",
       "      <th>trip_verified</th>\n",
       "      <th>rating</th>\n",
       "      <th>seat_comfort</th>\n",
       "      <th>cabin_staff_service</th>\n",
       "      <th>food_beverages</th>\n",
       "      <th>ground_service</th>\n",
       "      <th>value_for_money</th>\n",
       "      <th>entertainment</th>\n",
       "    </tr>\n",
       "  </thead>\n",
       "  <tbody>\n",
       "    <tr>\n",
       "      <th>0</th>\n",
       "      <td>service was mediocre at best</td>\n",
       "      <td>Gary Storer</td>\n",
       "      <td>03/10/2023</td>\n",
       "      <td>United Kingdom</td>\n",
       "      <td>Just returned from Chicago, flew out 10 days ...</td>\n",
       "      <td>A380</td>\n",
       "      <td>Couple Leisure</td>\n",
       "      <td>Economy Class</td>\n",
       "      <td>Chicago to Manchester via Heathrow</td>\n",
       "      <td>01/10/2023</td>\n",
       "      <td>no</td>\n",
       "      <td>Not Verified</td>\n",
       "      <td>2</td>\n",
       "      <td>2</td>\n",
       "      <td>3</td>\n",
       "      <td>1</td>\n",
       "      <td>2</td>\n",
       "      <td>2</td>\n",
       "      <td>-1</td>\n",
       "    </tr>\n",
       "    <tr>\n",
       "      <th>1</th>\n",
       "      <td>BA standards continue to decline</td>\n",
       "      <td>A Jensen</td>\n",
       "      <td>02/10/2023</td>\n",
       "      <td>United Kingdom</td>\n",
       "      <td>BA standards continue to decline every time ...</td>\n",
       "      <td>A320</td>\n",
       "      <td>Business</td>\n",
       "      <td>Business Class</td>\n",
       "      <td>London Heathrow to Munich</td>\n",
       "      <td>01/09/2023</td>\n",
       "      <td>no</td>\n",
       "      <td>Verified</td>\n",
       "      <td>2</td>\n",
       "      <td>2</td>\n",
       "      <td>1</td>\n",
       "      <td>2</td>\n",
       "      <td>1</td>\n",
       "      <td>1</td>\n",
       "      <td>-1</td>\n",
       "    </tr>\n",
       "    <tr>\n",
       "      <th>2</th>\n",
       "      <td>won the race to the bottom\"</td>\n",
       "      <td>John Rockett</td>\n",
       "      <td>02/10/2023</td>\n",
       "      <td>United Kingdom</td>\n",
       "      <td>Awful. Business class check in queue just as...</td>\n",
       "      <td>A320</td>\n",
       "      <td>Couple Leisure</td>\n",
       "      <td>Business Class</td>\n",
       "      <td>Heathrow to Istanbul</td>\n",
       "      <td>01/09/2023</td>\n",
       "      <td>no</td>\n",
       "      <td>Not Verified</td>\n",
       "      <td>2</td>\n",
       "      <td>2</td>\n",
       "      <td>3</td>\n",
       "      <td>2</td>\n",
       "      <td>1</td>\n",
       "      <td>1</td>\n",
       "      <td>-1</td>\n",
       "    </tr>\n",
       "    <tr>\n",
       "      <th>3</th>\n",
       "      <td>Not a reliable airline</td>\n",
       "      <td>Tatiana Bobrovskaya</td>\n",
       "      <td>02/10/2023</td>\n",
       "      <td>United Kingdom</td>\n",
       "      <td>Not a reliable airline. You cannot trust the...</td>\n",
       "      <td>A320</td>\n",
       "      <td>Business</td>\n",
       "      <td>Economy Class</td>\n",
       "      <td>London to Geneva</td>\n",
       "      <td>01/10/2023</td>\n",
       "      <td>no</td>\n",
       "      <td>Verified</td>\n",
       "      <td>3</td>\n",
       "      <td>4</td>\n",
       "      <td>4</td>\n",
       "      <td>2</td>\n",
       "      <td>1</td>\n",
       "      <td>1</td>\n",
       "      <td>-1</td>\n",
       "    </tr>\n",
       "    <tr>\n",
       "      <th>4</th>\n",
       "      <td>Very disappointed</td>\n",
       "      <td>Tom Slowbe</td>\n",
       "      <td>28/09/2023</td>\n",
       "      <td>United States</td>\n",
       "      <td>The airplanes and the lounges are worn out, o...</td>\n",
       "      <td>777-300 and A320</td>\n",
       "      <td>Couple Leisure</td>\n",
       "      <td>First Class</td>\n",
       "      <td>Dallas to Dubrovnik via Heathrow</td>\n",
       "      <td>01/09/2023</td>\n",
       "      <td>no</td>\n",
       "      <td>Verified</td>\n",
       "      <td>1</td>\n",
       "      <td>1</td>\n",
       "      <td>4</td>\n",
       "      <td>4</td>\n",
       "      <td>3</td>\n",
       "      <td>2</td>\n",
       "      <td>3</td>\n",
       "    </tr>\n",
       "  </tbody>\n",
       "</table>\n",
       "</div>"
      ],
      "text/plain": [
       "                             header               author        date  \\\n",
       "0      service was mediocre at best          Gary Storer  03/10/2023   \n",
       "1  BA standards continue to decline             A Jensen  02/10/2023   \n",
       "2      won the race to the bottom\"          John Rockett  02/10/2023   \n",
       "3            Not a reliable airline  Tatiana Bobrovskaya  02/10/2023   \n",
       "4                 Very disappointed           Tom Slowbe  28/09/2023   \n",
       "\n",
       "            place                                            content  \\\n",
       "0  United Kingdom   Just returned from Chicago, flew out 10 days ...   \n",
       "1  United Kingdom    BA standards continue to decline every time ...   \n",
       "2  United Kingdom    Awful. Business class check in queue just as...   \n",
       "3  United Kingdom    Not a reliable airline. You cannot trust the...   \n",
       "4   United States   The airplanes and the lounges are worn out, o...   \n",
       "\n",
       "           aircraft  traveller_type       seat_type  \\\n",
       "0              A380  Couple Leisure   Economy Class   \n",
       "1              A320        Business  Business Class   \n",
       "2              A320  Couple Leisure  Business Class   \n",
       "3              A320        Business   Economy Class   \n",
       "4  777-300 and A320  Couple Leisure     First Class   \n",
       "\n",
       "                                route  date_flown recommended trip_verified  \\\n",
       "0  Chicago to Manchester via Heathrow  01/10/2023          no  Not Verified   \n",
       "1           London Heathrow to Munich  01/09/2023          no      Verified   \n",
       "2                Heathrow to Istanbul  01/09/2023          no  Not Verified   \n",
       "3                    London to Geneva  01/10/2023          no      Verified   \n",
       "4    Dallas to Dubrovnik via Heathrow  01/09/2023          no      Verified   \n",
       "\n",
       "   rating  seat_comfort  cabin_staff_service  food_beverages  ground_service  \\\n",
       "0       2             2                    3               1               2   \n",
       "1       2             2                    1               2               1   \n",
       "2       2             2                    3               2               1   \n",
       "3       3             4                    4               2               1   \n",
       "4       1             1                    4               4               3   \n",
       "\n",
       "   value_for_money  entertainment  \n",
       "0                2             -1  \n",
       "1                1             -1  \n",
       "2                1             -1  \n",
       "3                1             -1  \n",
       "4                2              3  "
      ]
     },
     "execution_count": 6,
     "metadata": {},
     "output_type": "execute_result"
    }
   ],
   "source": [
    "df.head()"
   ]
  },
  {
   "cell_type": "code",
   "execution_count": 10,
   "id": "8cbcd28b-4a2b-4660-8a60-efd3d8d31b9d",
   "metadata": {},
   "outputs": [
    {
     "data": {
      "text/plain": [
       "(1324, 19)"
      ]
     },
     "execution_count": 10,
     "metadata": {},
     "output_type": "execute_result"
    }
   ],
   "source": [
    "df.shape"
   ]
  },
  {
   "cell_type": "code",
   "execution_count": 8,
   "id": "662084b9-3166-4070-a540-55c790c86d44",
   "metadata": {},
   "outputs": [
    {
     "data": {
      "text/html": [
       "<div>\n",
       "<style scoped>\n",
       "    .dataframe tbody tr th:only-of-type {\n",
       "        vertical-align: middle;\n",
       "    }\n",
       "\n",
       "    .dataframe tbody tr th {\n",
       "        vertical-align: top;\n",
       "    }\n",
       "\n",
       "    .dataframe thead th {\n",
       "        text-align: right;\n",
       "    }\n",
       "</style>\n",
       "<table border=\"1\" class=\"dataframe\">\n",
       "  <thead>\n",
       "    <tr style=\"text-align: right;\">\n",
       "      <th></th>\n",
       "      <th>rating</th>\n",
       "      <th>seat_comfort</th>\n",
       "      <th>cabin_staff_service</th>\n",
       "      <th>food_beverages</th>\n",
       "      <th>ground_service</th>\n",
       "      <th>value_for_money</th>\n",
       "      <th>entertainment</th>\n",
       "    </tr>\n",
       "  </thead>\n",
       "  <tbody>\n",
       "    <tr>\n",
       "      <th>count</th>\n",
       "      <td>1324.000000</td>\n",
       "      <td>1324.000000</td>\n",
       "      <td>1324.000000</td>\n",
       "      <td>1324.000000</td>\n",
       "      <td>1324.000000</td>\n",
       "      <td>1324.000000</td>\n",
       "      <td>1324.000000</td>\n",
       "    </tr>\n",
       "    <tr>\n",
       "      <th>mean</th>\n",
       "      <td>4.188822</td>\n",
       "      <td>2.870091</td>\n",
       "      <td>3.280211</td>\n",
       "      <td>2.381420</td>\n",
       "      <td>3.031722</td>\n",
       "      <td>2.777946</td>\n",
       "      <td>1.435801</td>\n",
       "    </tr>\n",
       "    <tr>\n",
       "      <th>std</th>\n",
       "      <td>3.253325</td>\n",
       "      <td>1.386049</td>\n",
       "      <td>1.520592</td>\n",
       "      <td>1.697979</td>\n",
       "      <td>1.405815</td>\n",
       "      <td>1.409587</td>\n",
       "      <td>2.096598</td>\n",
       "    </tr>\n",
       "    <tr>\n",
       "      <th>min</th>\n",
       "      <td>1.000000</td>\n",
       "      <td>-1.000000</td>\n",
       "      <td>-1.000000</td>\n",
       "      <td>-1.000000</td>\n",
       "      <td>-1.000000</td>\n",
       "      <td>1.000000</td>\n",
       "      <td>-1.000000</td>\n",
       "    </tr>\n",
       "    <tr>\n",
       "      <th>25%</th>\n",
       "      <td>1.000000</td>\n",
       "      <td>2.000000</td>\n",
       "      <td>2.000000</td>\n",
       "      <td>1.000000</td>\n",
       "      <td>2.000000</td>\n",
       "      <td>1.000000</td>\n",
       "      <td>-1.000000</td>\n",
       "    </tr>\n",
       "    <tr>\n",
       "      <th>50%</th>\n",
       "      <td>3.000000</td>\n",
       "      <td>3.000000</td>\n",
       "      <td>4.000000</td>\n",
       "      <td>2.000000</td>\n",
       "      <td>3.000000</td>\n",
       "      <td>3.000000</td>\n",
       "      <td>1.000000</td>\n",
       "    </tr>\n",
       "    <tr>\n",
       "      <th>75%</th>\n",
       "      <td>7.000000</td>\n",
       "      <td>4.000000</td>\n",
       "      <td>5.000000</td>\n",
       "      <td>4.000000</td>\n",
       "      <td>4.000000</td>\n",
       "      <td>4.000000</td>\n",
       "      <td>3.000000</td>\n",
       "    </tr>\n",
       "    <tr>\n",
       "      <th>max</th>\n",
       "      <td>10.000000</td>\n",
       "      <td>5.000000</td>\n",
       "      <td>5.000000</td>\n",
       "      <td>5.000000</td>\n",
       "      <td>5.000000</td>\n",
       "      <td>5.000000</td>\n",
       "      <td>5.000000</td>\n",
       "    </tr>\n",
       "  </tbody>\n",
       "</table>\n",
       "</div>"
      ],
      "text/plain": [
       "            rating  seat_comfort  cabin_staff_service  food_beverages  \\\n",
       "count  1324.000000   1324.000000          1324.000000     1324.000000   \n",
       "mean      4.188822      2.870091             3.280211        2.381420   \n",
       "std       3.253325      1.386049             1.520592        1.697979   \n",
       "min       1.000000     -1.000000            -1.000000       -1.000000   \n",
       "25%       1.000000      2.000000             2.000000        1.000000   \n",
       "50%       3.000000      3.000000             4.000000        2.000000   \n",
       "75%       7.000000      4.000000             5.000000        4.000000   \n",
       "max      10.000000      5.000000             5.000000        5.000000   \n",
       "\n",
       "       ground_service  value_for_money  entertainment  \n",
       "count     1324.000000      1324.000000    1324.000000  \n",
       "mean         3.031722         2.777946       1.435801  \n",
       "std          1.405815         1.409587       2.096598  \n",
       "min         -1.000000         1.000000      -1.000000  \n",
       "25%          2.000000         1.000000      -1.000000  \n",
       "50%          3.000000         3.000000       1.000000  \n",
       "75%          4.000000         4.000000       3.000000  \n",
       "max          5.000000         5.000000       5.000000  "
      ]
     },
     "execution_count": 8,
     "metadata": {},
     "output_type": "execute_result"
    }
   ],
   "source": [
    "df.describe()"
   ]
  },
  {
   "cell_type": "markdown",
   "id": "606da81a-3530-4648-89b6-4a80230037e2",
   "metadata": {},
   "source": [
    "We see there are negative review ratings for certain categories, this is likely incorrect data. Hence, we will now explore what to do with such records depending on their frequency."
   ]
  },
  {
   "cell_type": "code",
   "execution_count": 23,
   "id": "48bf7c8c-da34-48a0-9cca-84e39a4dbe98",
   "metadata": {},
   "outputs": [
    {
     "data": {
      "text/plain": [
       "465"
      ]
     },
     "execution_count": 23,
     "metadata": {},
     "output_type": "execute_result"
    }
   ],
   "source": [
    "len(df[(df[\"seat_comfort\"]==-1) |(df[\"cabin_staff_service\"]==-1) | (df[\"food_beverages\"]==-1) |\\\n",
    "    (df[\"ground_service\"]==-1) | (df[\"entertainment\"]==-1)])"
   ]
  },
  {
   "cell_type": "code",
   "execution_count": 25,
   "id": "2f4fcb23-96be-4ff0-8d70-e593c641def6",
   "metadata": {},
   "outputs": [
    {
     "data": {
      "text/plain": [
       "0.3512084592145015"
      ]
     },
     "execution_count": 25,
     "metadata": {},
     "output_type": "execute_result"
    }
   ],
   "source": [
    "465/1324"
   ]
  },
  {
   "cell_type": "markdown",
   "id": "35a9bbfe-0baf-447c-9362-4053a1a037a5",
   "metadata": {},
   "source": [
    "This accounts for nearly 35% of the data and dropping these rows will lead to significant data loss. Hence, we will consider absolute values for each these columns"
   ]
  },
  {
   "cell_type": "code",
   "execution_count": 29,
   "id": "a6c66c5e-2159-460b-a3de-d7848288af58",
   "metadata": {},
   "outputs": [],
   "source": [
    "columns_to_update = [\"seat_comfort\", \"cabin_staff_service\", \"food_beverages\", \"ground_service\", \"entertainment\"]\n",
    "df[columns_to_update] = df[columns_to_update].abs()"
   ]
  },
  {
   "cell_type": "code",
   "execution_count": 31,
   "id": "92f25768-ac4c-474c-882b-200606bbef7f",
   "metadata": {},
   "outputs": [
    {
     "data": {
      "text/html": [
       "<div>\n",
       "<style scoped>\n",
       "    .dataframe tbody tr th:only-of-type {\n",
       "        vertical-align: middle;\n",
       "    }\n",
       "\n",
       "    .dataframe tbody tr th {\n",
       "        vertical-align: top;\n",
       "    }\n",
       "\n",
       "    .dataframe thead th {\n",
       "        text-align: right;\n",
       "    }\n",
       "</style>\n",
       "<table border=\"1\" class=\"dataframe\">\n",
       "  <thead>\n",
       "    <tr style=\"text-align: right;\">\n",
       "      <th></th>\n",
       "      <th>rating</th>\n",
       "      <th>seat_comfort</th>\n",
       "      <th>cabin_staff_service</th>\n",
       "      <th>food_beverages</th>\n",
       "      <th>ground_service</th>\n",
       "      <th>value_for_money</th>\n",
       "      <th>entertainment</th>\n",
       "    </tr>\n",
       "  </thead>\n",
       "  <tbody>\n",
       "    <tr>\n",
       "      <th>count</th>\n",
       "      <td>1324.000000</td>\n",
       "      <td>1324.000000</td>\n",
       "      <td>1324.000000</td>\n",
       "      <td>1324.000000</td>\n",
       "      <td>1324.000000</td>\n",
       "      <td>1324.000000</td>\n",
       "      <td>1324.000000</td>\n",
       "    </tr>\n",
       "    <tr>\n",
       "      <th>mean</th>\n",
       "      <td>4.188822</td>\n",
       "      <td>2.886707</td>\n",
       "      <td>3.296828</td>\n",
       "      <td>2.532477</td>\n",
       "      <td>3.037764</td>\n",
       "      <td>2.777946</td>\n",
       "      <td>2.126133</td>\n",
       "    </tr>\n",
       "    <tr>\n",
       "      <th>std</th>\n",
       "      <td>3.253325</td>\n",
       "      <td>1.351074</td>\n",
       "      <td>1.484194</td>\n",
       "      <td>1.462973</td>\n",
       "      <td>1.392701</td>\n",
       "      <td>1.409587</td>\n",
       "      <td>1.391024</td>\n",
       "    </tr>\n",
       "    <tr>\n",
       "      <th>min</th>\n",
       "      <td>1.000000</td>\n",
       "      <td>1.000000</td>\n",
       "      <td>1.000000</td>\n",
       "      <td>1.000000</td>\n",
       "      <td>1.000000</td>\n",
       "      <td>1.000000</td>\n",
       "      <td>1.000000</td>\n",
       "    </tr>\n",
       "    <tr>\n",
       "      <th>25%</th>\n",
       "      <td>1.000000</td>\n",
       "      <td>2.000000</td>\n",
       "      <td>2.000000</td>\n",
       "      <td>1.000000</td>\n",
       "      <td>2.000000</td>\n",
       "      <td>1.000000</td>\n",
       "      <td>1.000000</td>\n",
       "    </tr>\n",
       "    <tr>\n",
       "      <th>50%</th>\n",
       "      <td>3.000000</td>\n",
       "      <td>3.000000</td>\n",
       "      <td>4.000000</td>\n",
       "      <td>2.000000</td>\n",
       "      <td>3.000000</td>\n",
       "      <td>3.000000</td>\n",
       "      <td>1.000000</td>\n",
       "    </tr>\n",
       "    <tr>\n",
       "      <th>75%</th>\n",
       "      <td>7.000000</td>\n",
       "      <td>4.000000</td>\n",
       "      <td>5.000000</td>\n",
       "      <td>4.000000</td>\n",
       "      <td>4.000000</td>\n",
       "      <td>4.000000</td>\n",
       "      <td>3.000000</td>\n",
       "    </tr>\n",
       "    <tr>\n",
       "      <th>max</th>\n",
       "      <td>10.000000</td>\n",
       "      <td>5.000000</td>\n",
       "      <td>5.000000</td>\n",
       "      <td>5.000000</td>\n",
       "      <td>5.000000</td>\n",
       "      <td>5.000000</td>\n",
       "      <td>5.000000</td>\n",
       "    </tr>\n",
       "  </tbody>\n",
       "</table>\n",
       "</div>"
      ],
      "text/plain": [
       "            rating  seat_comfort  cabin_staff_service  food_beverages  \\\n",
       "count  1324.000000   1324.000000          1324.000000     1324.000000   \n",
       "mean      4.188822      2.886707             3.296828        2.532477   \n",
       "std       3.253325      1.351074             1.484194        1.462973   \n",
       "min       1.000000      1.000000             1.000000        1.000000   \n",
       "25%       1.000000      2.000000             2.000000        1.000000   \n",
       "50%       3.000000      3.000000             4.000000        2.000000   \n",
       "75%       7.000000      4.000000             5.000000        4.000000   \n",
       "max      10.000000      5.000000             5.000000        5.000000   \n",
       "\n",
       "       ground_service  value_for_money  entertainment  \n",
       "count     1324.000000      1324.000000    1324.000000  \n",
       "mean         3.037764         2.777946       2.126133  \n",
       "std          1.392701         1.409587       1.391024  \n",
       "min          1.000000         1.000000       1.000000  \n",
       "25%          2.000000         1.000000       1.000000  \n",
       "50%          3.000000         3.000000       1.000000  \n",
       "75%          4.000000         4.000000       3.000000  \n",
       "max          5.000000         5.000000       5.000000  "
      ]
     },
     "execution_count": 31,
     "metadata": {},
     "output_type": "execute_result"
    }
   ],
   "source": [
    "df.describe()"
   ]
  },
  {
   "cell_type": "code",
   "execution_count": 33,
   "id": "cc88e0a9-e053-4729-ae81-0209299ecb51",
   "metadata": {},
   "outputs": [
    {
     "data": {
      "text/plain": [
       "header                 False\n",
       "author                 False\n",
       "date                   False\n",
       "place                  False\n",
       "content                False\n",
       "aircraft               False\n",
       "traveller_type          True\n",
       "seat_type              False\n",
       "route                  False\n",
       "date_flown             False\n",
       "recommended            False\n",
       "trip_verified          False\n",
       "rating                 False\n",
       "seat_comfort           False\n",
       "cabin_staff_service    False\n",
       "food_beverages         False\n",
       "ground_service         False\n",
       "value_for_money        False\n",
       "entertainment          False\n",
       "dtype: bool"
      ]
     },
     "execution_count": 33,
     "metadata": {},
     "output_type": "execute_result"
    }
   ],
   "source": [
    "df.isna().any()"
   ]
  },
  {
   "cell_type": "code",
   "execution_count": 35,
   "id": "90dc6776-6d65-4c70-aa53-889118574a64",
   "metadata": {},
   "outputs": [
    {
     "data": {
      "text/plain": [
       "header                 0\n",
       "author                 0\n",
       "date                   0\n",
       "place                  0\n",
       "content                0\n",
       "aircraft               0\n",
       "traveller_type         1\n",
       "seat_type              0\n",
       "route                  0\n",
       "date_flown             0\n",
       "recommended            0\n",
       "trip_verified          0\n",
       "rating                 0\n",
       "seat_comfort           0\n",
       "cabin_staff_service    0\n",
       "food_beverages         0\n",
       "ground_service         0\n",
       "value_for_money        0\n",
       "entertainment          0\n",
       "dtype: int64"
      ]
     },
     "execution_count": 35,
     "metadata": {},
     "output_type": "execute_result"
    }
   ],
   "source": [
    "df.isna().sum()"
   ]
  },
  {
   "cell_type": "markdown",
   "id": "ec5fea02-3d33-4dbd-ac11-08d78edd46ec",
   "metadata": {},
   "source": [
    "Given it's only 1 row with a null value we can drop the row"
   ]
  },
  {
   "cell_type": "code",
   "execution_count": 42,
   "id": "8214d68a-498b-465f-b9bd-a4f5c976270d",
   "metadata": {},
   "outputs": [],
   "source": [
    "df = df.dropna()"
   ]
  },
  {
   "cell_type": "code",
   "execution_count": 44,
   "id": "8f7c7881-5ab7-47d3-9658-506682bd5416",
   "metadata": {},
   "outputs": [
    {
     "data": {
      "text/plain": [
       "header                 0\n",
       "author                 0\n",
       "date                   0\n",
       "place                  0\n",
       "content                0\n",
       "aircraft               0\n",
       "traveller_type         0\n",
       "seat_type              0\n",
       "route                  0\n",
       "date_flown             0\n",
       "recommended            0\n",
       "trip_verified          0\n",
       "rating                 0\n",
       "seat_comfort           0\n",
       "cabin_staff_service    0\n",
       "food_beverages         0\n",
       "ground_service         0\n",
       "value_for_money        0\n",
       "entertainment          0\n",
       "dtype: int64"
      ]
     },
     "execution_count": 44,
     "metadata": {},
     "output_type": "execute_result"
    }
   ],
   "source": [
    "df.isna().sum()"
   ]
  },
  {
   "cell_type": "code",
   "execution_count": 46,
   "id": "ce7e8c6d-0ed6-4c55-9063-4d22f38c3de8",
   "metadata": {},
   "outputs": [
    {
     "data": {
      "text/plain": [
       "(1323, 19)"
      ]
     },
     "execution_count": 46,
     "metadata": {},
     "output_type": "execute_result"
    }
   ],
   "source": [
    "df.shape"
   ]
  },
  {
   "cell_type": "markdown",
   "id": "1ac663e9-d24f-4b51-a2b0-62ae97b0c734",
   "metadata": {},
   "source": [
    "we'll now save this df as a csv and use tableau to do further analysis."
   ]
  },
  {
   "cell_type": "code",
   "execution_count": 48,
   "id": "296fb451-853b-4096-bd3b-30363c92c64f",
   "metadata": {},
   "outputs": [],
   "source": [
    "df.to_csv(\"ba_reviews_cleaned.csv\", index=False)"
   ]
  },
  {
   "cell_type": "code",
   "execution_count": null,
   "id": "267e098d-d363-4e8a-9fd4-1f24a949ee25",
   "metadata": {},
   "outputs": [],
   "source": []
  }
 ],
 "metadata": {
  "kernelspec": {
   "display_name": "Python 3 (ipykernel)",
   "language": "python",
   "name": "python3"
  },
  "language_info": {
   "codemirror_mode": {
    "name": "ipython",
    "version": 3
   },
   "file_extension": ".py",
   "mimetype": "text/x-python",
   "name": "python",
   "nbconvert_exporter": "python",
   "pygments_lexer": "ipython3",
   "version": "3.12.2"
  }
 },
 "nbformat": 4,
 "nbformat_minor": 5
}
